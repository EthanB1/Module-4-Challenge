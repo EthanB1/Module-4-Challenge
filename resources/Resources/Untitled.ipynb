{
 "cells": [
  {
   "cell_type": "code",
   "execution_count": 1,
   "id": "942f6a6e-0f59-4e20-b621-9b973c028cf5",
   "metadata": {},
   "outputs": [],
   "source": [
    "first = [1, 2, 3]\n",
    "second = [3, 2, 1]"
   ]
  },
  {
   "cell_type": "code",
   "execution_count": 5,
   "id": "fb765982-4056-4dd8-b4c5-d0db7824450e",
   "metadata": {},
   "outputs": [],
   "source": [
    "def test_list_equality(list1, list2):\n",
    "    return list1 == list2"
   ]
  },
  {
   "cell_type": "code",
   "execution_count": 8,
   "id": "e88e4d17-f9be-4212-909e-cf07721029d1",
   "metadata": {},
   "outputs": [
    {
     "name": "stdout",
     "output_type": "stream",
     "text": [
      "not equal\n"
     ]
    }
   ],
   "source": [
    "if test_list_equality(first,second):\n",
    "    print(\"equal\")\n",
    "else:\n",
    "    print(\"not equal\")\n",
    "    "
   ]
  },
  {
   "cell_type": "code",
   "execution_count": 14,
   "id": "669bc3b6-c062-4d22-87c5-7056a1287a9f",
   "metadata": {},
   "outputs": [
    {
     "name": "stdout",
     "output_type": "stream",
     "text": [
      "The lists have the same contents.\n"
     ]
    }
   ],
   "source": [
    "def test_list_contents(list1, list2):\n",
    "    if len(list1) != len(list2):\n",
    "        return False\n",
    "    for item in list1:\n",
    "        if item not in list2:\n",
    "            return False\n",
    "    for item in list2:\n",
    "        if item not in list1:\n",
    "            return False\n",
    "    return True\n",
    "\n",
    "if test_list_contents(first, second):\n",
    "    print(\"The lists have the same contents.\")\n",
    "else:\n",
    "    print(\"The lists do not have the same contents.\")"
   ]
  },
  {
   "cell_type": "code",
   "execution_count": 17,
   "id": "ce440fa7-8e97-42ff-bcd0-3eb4b2a78113",
   "metadata": {},
   "outputs": [
    {
     "name": "stdout",
     "output_type": "stream",
     "text": [
      "Maximum profit: 0.7999999999999998\n"
     ]
    }
   ],
   "source": [
    "def find_max_profit(stock_prices):\n",
    "    if len(stock_prices) < 2:\n",
    "        return 0\n",
    "    \n",
    "    min_price = stock_prices[0]\n",
    "    max_profit = stock_prices[1] - stock_prices[0]\n",
    "    \n",
    "    for price in stock_prices[1:]:\n",
    "        profit = price - min_price\n",
    "        if profit > max_profit:\n",
    "            max_profit = profit\n",
    "            \n",
    "        if price < min_price:\n",
    "            min_price = price\n",
    "           \n",
    "    return max_profit\n",
    "\n",
    "stock_prices = [1.42, 1.32, 1.45, 1.20, 1.34, 1.74, 1.10, 1.89, 1.42, 1.90, 1.80, 1.85]\n",
    "\n",
    "max_profit = find_max_profit(stock_prices)\n",
    "\n",
    "print(\"Maximum profit:\", max_profit)"
   ]
  },
  {
   "cell_type": "code",
   "execution_count": null,
   "id": "a439d369-f9cd-49c2-b199-660adf1061ee",
   "metadata": {},
   "outputs": [],
   "source": [
    "def count_letters(mystring)\n",
    "\n",
    "    mystring = mystring.lower()\n",
    "    list_of_string = list(mystring)\n",
    "    \n",
    "    letter_count = {}\n",
    "    \n",
    "    for character in list_of_string:\n",
    "        if character.isalpha():\n",
    "            "
   ]
  }
 ],
 "metadata": {
  "kernelspec": {
   "display_name": "Python 3 (ipykernel)",
   "language": "python",
   "name": "python3"
  },
  "language_info": {
   "codemirror_mode": {
    "name": "ipython",
    "version": 3
   },
   "file_extension": ".py",
   "mimetype": "text/x-python",
   "name": "python",
   "nbconvert_exporter": "python",
   "pygments_lexer": "ipython3",
   "version": "3.10.11"
  }
 },
 "nbformat": 4,
 "nbformat_minor": 5
}
